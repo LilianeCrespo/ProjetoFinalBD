{
 "cells": [
  {
   "cell_type": "markdown",
   "metadata": {},
   "source": [
    "Importação das biliotecas :\n",
    "Polars,\n",
    "Time,\n",
    "Pyarrow e\n",
    "fastparquet\n"
   ]
  },
  {
   "cell_type": "code",
   "execution_count": null,
   "metadata": {},
   "outputs": [],
   "source": [
    "import polars as pl\n",
    "import time\n",
    "import pyarrow as pa \n",
    "import fastparquet as fp"
   ]
  },
  {
   "cell_type": "markdown",
   "metadata": {},
   "source": [
    "carregamento dos aquivos csv,utilizando a biblioteca polars"
   ]
  },
  {
   "cell_type": "code",
   "execution_count": null,
   "metadata": {},
   "outputs": [],
   "source": [
    "#Julho e  Agosto:\n",
    "arquivo1=pl.read_csv(\"202307_NovoBolsaFamilia.csv\", separator=\";\", encoding=\"latin-1\") #caminhos dos arquivos\n",
    "arquivo2=pl.read_csv(\"202308_NovoBolsaFamilia.csv\", separator=\";\", encoding=\"latin-1\")\n",
    "arquivo3=pl.read_csv(\"202309_NovoBolsaFamilia.csv\", separator=\";\", encoding=\"latin-1\")\n",
    "\n",
    "inicio_tempo=time.time() #marcação do tempo de processamento\n",
    "df_polars=pl.concat([arquivo1,arquivo2, arquivo3])\n"
   ]
  },
  {
   "cell_type": "markdown",
   "metadata": {},
   "source": [
    "Leitura do dataFrame df_polars e imprimindo tempo de excecução"
   ]
  },
  {
   "cell_type": "code",
   "execution_count": null,
   "metadata": {},
   "outputs": [],
   "source": [
    "display(df_polars.head()) # Exibir as primeiras linhas do dataframe\n",
    "\n",
    "print(\"Tempo de execução com Polars:\", time.time() - inicio_tempo, \"segundos\") # Calcular e exibir o tempo de execução"
   ]
  },
  {
   "cell_type": "markdown",
   "metadata": {},
   "source": [
    "Salvar o dataframe df_polars em um arquivo Parquet chamado bimestre3 com compressão Snappy."
   ]
  },
  {
   "cell_type": "code",
   "execution_count": null,
   "metadata": {},
   "outputs": [],
   "source": [
    "df_polars.write_parquet(\"bimestre3\", compression=\"snappy\")"
   ]
  },
  {
   "cell_type": "markdown",
   "metadata": {},
   "source": [
    "Exibindo as primeiras linhas e o total de linhas do dataframe"
   ]
  },
  {
   "cell_type": "code",
   "execution_count": null,
   "metadata": {},
   "outputs": [],
   "source": [
    "# Exibir as primeiras linhas do dataframe\n",
    "display(df_polars.head())\n",
    "\n",
    "# Exibir o total de linhas do dataframe\n",
    "display(\"Total de linhas:\", df_polars.shape[0])"
   ]
  },
  {
   "cell_type": "markdown",
   "metadata": {},
   "source": [
    "Conversão da coluna VALOR PARCELA em de str pata int"
   ]
  },
  {
   "cell_type": "code",
   "execution_count": null,
   "metadata": {},
   "outputs": [],
   "source": [
    "df_polars2=df_polars.with_columns(pl.col(\"VALOR PARCELA\").cast(pl.Int32).alias(\"VALOR PARCELA\"))\n",
    "display(df_polars2)"
   ]
  },
  {
   "cell_type": "markdown",
   "metadata": {},
   "source": [
    "Ordenar os dados (sort) Ordenar o dataframe pelo valor da parcela em ordem decrescente:"
   ]
  },
  {
   "cell_type": "code",
   "execution_count": null,
   "metadata": {},
   "outputs": [],
   "source": [
    "df_polars_sorted = df_polars2.sort('VALOR PARCELA').reverse()\n",
    "display(df_polars_sorted.head())\n"
   ]
  },
  {
   "cell_type": "markdown",
   "metadata": {},
   "source": [
    "Agrupar os dados (groupby) e contar a frequência dos valores (value_counts) Contar a frequência de cada município dentro de cada UF"
   ]
  },
  {
   "cell_type": "code",
   "execution_count": null,
   "metadata": {},
   "outputs": [],
   "source": [
    "# Supondo que df_polars seja um DataFrame do Polars\n",
    "df_grouped = df_polars.group_by('UF').agg(pl.col('NOME MUNICÍPIO').value_counts())\n",
    "display(df_grouped)"
   ]
  },
  {
   "cell_type": "markdown",
   "metadata": {},
   "source": [
    "Selecionar uma fatia do DataFrame (slice) Selecionar as primeiras 10 linhas do dataframe:"
   ]
  },
  {
   "cell_type": "code",
   "execution_count": null,
   "metadata": {},
   "outputs": [],
   "source": [
    "df_slice = df_polars.slice(0, 5)\n",
    "display(df_slice)"
   ]
  },
  {
   "cell_type": "markdown",
   "metadata": {},
   "source": [
    "Adicionar uma nova coluna (with_column) Adicionar uma nova coluna chamada \"Número do Trimestre\" com todos os valores iguais a 0"
   ]
  },
  {
   "cell_type": "code",
   "execution_count": null,
   "metadata": {},
   "outputs": [],
   "source": [
    "df_polars=df_polars.with_columns(pl.lit(3).alias('Número do Trimestre'))\n",
    "display(df_polars.head())"
   ]
  },
  {
   "cell_type": "markdown",
   "metadata": {},
   "source": [
    "Este código filtra o DataFrame df_polars para selecionar apenas as linhas onde a coluna MÊS COMPETÊNCIA é igual a 202307. Em seguida, ele exibe as primeiras linhas do DataFrame filtrado usando a função display."
   ]
  },
  {
   "cell_type": "code",
   "execution_count": null,
   "metadata": {},
   "outputs": [],
   "source": [
    "display(df_polars.filter(pl.col(\"MÊS COMPETÊNCIA\")==202307))"
   ]
  },
  {
   "cell_type": "markdown",
   "metadata": {},
   "source": [
    "Excluir colunas ou linhas (drop) Excluir a coluna \"Número do Trimestre\":"
   ]
  },
  {
   "cell_type": "code",
   "execution_count": null,
   "metadata": {},
   "outputs": [],
   "source": [
    "df_polars_dropped = df_polars.drop('Número do Trimestre')\n",
    "display(df_polars_dropped.head())"
   ]
  }
 ],
 "metadata": {
  "kernelspec": {
   "display_name": "larissaKViana",
   "language": "python",
   "name": "python3"
  },
  "language_info": {
   "codemirror_mode": {
    "name": "ipython",
    "version": 3
   },
   "file_extension": ".py",
   "mimetype": "text/x-python",
   "name": "python",
   "nbconvert_exporter": "python",
   "pygments_lexer": "ipython3",
   "version": "3.12.7"
  }
 },
 "nbformat": 4,
 "nbformat_minor": 2
}
